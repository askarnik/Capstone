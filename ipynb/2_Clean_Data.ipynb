{
 "cells": [
  {
   "cell_type": "code",
   "execution_count": 1,
   "metadata": {},
   "outputs": [
    {
     "name": "stdout",
     "output_type": "stream",
     "text": [
      "/home/jovyan/work/dsi-plus-2/Capstone\n"
     ]
    }
   ],
   "source": [
    "cd .."
   ]
  },
  {
   "cell_type": "code",
   "execution_count": 2,
   "metadata": {},
   "outputs": [],
   "source": [
    "%run __init__.py\n",
    "%matplotlib inline"
   ]
  },
  {
   "cell_type": "code",
   "execution_count": 3,
   "metadata": {},
   "outputs": [],
   "source": [
    "def clean_technicals(df):\n",
    "    df[\"Date\"] = pd.to_datetime(df[\"Date\"])\n",
    "    df =  df.set_index(\"Date\")\n",
    "    df = df.drop(\"Unnamed: 0\", axis = 1)\n",
    "    \n",
    "    # Shift technicals down one so \"tomorrow\"s close can be predicted with yesterday's TIs\n",
    "    df.iloc[:, 8:] = df.iloc[:, 8:].shift()\n",
    "    \n",
    "    # Drop column of all zeroes\n",
    "    df = df.dropna()\n",
    "    df = df.drop(\"Acc/Dist_ROC_1\" , axis = 1)\n",
    "    \n",
    "    y = df[\"Close\"]\n",
    "    X = df.iloc[:, 6:]\n",
    "\n",
    "    return X"
   ]
  },
  {
   "cell_type": "code",
   "execution_count": 4,
   "metadata": {},
   "outputs": [],
   "source": [
    "indiv_tech_path = \"data/sandp500/individual_stocks_5yr_TECHNICALS/\"\n",
    "indiv_tech = os.listdir(path = indiv_tech_path)"
   ]
  },
  {
   "cell_type": "code",
   "execution_count": 5,
   "metadata": {},
   "outputs": [],
   "source": [
    "for my_file in indiv_tech:\n",
    "    try:\n",
    "        file_path = indiv_tech_path + my_file\n",
    "        stock_technicals = pd.read_csv(file_path)\n",
    "        X = clean_technicals(stock_technicals)\n",
    "        \n",
    "        pickle_file_path = 'pickled_data/technicals/'+my_file.split('.')[0]+'.pkl'\n",
    "        X.to_pickle(pickle_file_path)\n",
    "    except:\n",
    "        print(my_file, 'failed.')"
   ]
  },
  {
   "cell_type": "code",
   "execution_count": null,
   "metadata": {},
   "outputs": [],
   "source": []
  }
 ],
 "metadata": {
  "kernelspec": {
   "display_name": "Python 3",
   "language": "python",
   "name": "python3"
  },
  "language_info": {
   "codemirror_mode": {
    "name": "ipython",
    "version": 3
   },
   "file_extension": ".py",
   "mimetype": "text/x-python",
   "name": "python",
   "nbconvert_exporter": "python",
   "pygments_lexer": "ipython3",
   "version": "3.6.3"
  }
 },
 "nbformat": 4,
 "nbformat_minor": 2
}
