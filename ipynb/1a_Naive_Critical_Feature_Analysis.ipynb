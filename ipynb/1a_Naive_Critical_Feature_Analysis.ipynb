{
 "cells": [
  {
   "cell_type": "code",
   "execution_count": 1,
   "metadata": {},
   "outputs": [
    {
     "name": "stdout",
     "output_type": "stream",
     "text": [
      "/home/jovyan/work/dsi-plus-2/Capstone\n"
     ]
    }
   ],
   "source": [
    "cd .."
   ]
  },
  {
   "cell_type": "code",
   "execution_count": 2,
   "metadata": {},
   "outputs": [],
   "source": [
    "%run __init__.py\n",
    "%matplotlib inline"
   ]
  },
  {
   "cell_type": "markdown",
   "metadata": {},
   "source": [
    "## EDA on ABBV Stock"
   ]
  },
  {
   "cell_type": "code",
   "execution_count": 3,
   "metadata": {},
   "outputs": [],
   "source": [
    "ABBV = pd.read_csv('data/sandp500/individual_stocks_5yr_TECHNICALS/ABBV_data.csv')"
   ]
  },
  {
   "cell_type": "code",
   "execution_count": 4,
   "metadata": {},
   "outputs": [
    {
     "name": "stdout",
     "output_type": "stream",
     "text": [
      "<class 'pandas.core.frame.DataFrame'>\n",
      "RangeIndex: 1177 entries, 0 to 1176\n",
      "Data columns (total 50 columns):\n",
      "Unnamed: 0                     1177 non-null int64\n",
      "Date                           1177 non-null object\n",
      "Open                           1176 non-null float64\n",
      "High                           1176 non-null float64\n",
      "Low                            1177 non-null float64\n",
      "Close                          1177 non-null float64\n",
      "Volume                         1177 non-null int64\n",
      "Name                           1177 non-null object\n",
      "Acc/Dist_ROC_1                 1170 non-null float64\n",
      "ADX_14_50                      1116 non-null float64\n",
      "ATR_14                         1164 non-null float64\n",
      "BollingerB_5                   1173 non-null float64\n",
      "Bollinger%b_5                  1173 non-null float64\n",
      "BollingerB_20                  1158 non-null float64\n",
      "Bollinger%b_20                 1158 non-null float64\n",
      "Copp_10                        1155 non-null float64\n",
      "Chaikin                        1169 non-null float64\n",
      "EMA_5                          1174 non-null float64\n",
      "EMA_20                         1159 non-null float64\n",
      "Force_2                        1175 non-null float64\n",
      "KST_10_10_10_15_10_15_20_30    1134 non-null float64\n",
      "MA_5                           1173 non-null float64\n",
      "MA_20                          1158 non-null float64\n",
      "MACD_12_26                     1153 non-null float64\n",
      "MACDsign_12_26                 1146 non-null float64\n",
      "MACDdiff_12_26                 1146 non-null float64\n",
      "MFI_14                         1154 non-null float64\n",
      "Momentum_1                     1176 non-null float64\n",
      "Mass Index                     1139 non-null float64\n",
      "OBV_5                          1173 non-null float64\n",
      "OBV_20                         1158 non-null float64\n",
      "PP                             1176 non-null float64\n",
      "R1                             1176 non-null float64\n",
      "R2                             1176 non-null float64\n",
      "R3                             1176 non-null float64\n",
      "S1                             1176 non-null float64\n",
      "S2                             1176 non-null float64\n",
      "S3                             1176 non-null float64\n",
      "ROC_5                          1173 non-null float64\n",
      "ROC_20                         1158 non-null float64\n",
      "RSI_6                          1173 non-null float64\n",
      "RSI_12                         1167 non-null float64\n",
      "STD_5                          1173 non-null float64\n",
      "STD_20                         1158 non-null float64\n",
      "SO%d_5                         1174 non-null float64\n",
      "SO%d_20                        1159 non-null float64\n",
      "SO%k                           1176 non-null float64\n",
      "Trix_5                         1168 non-null float64\n",
      "Trix_20                        1123 non-null float64\n",
      "TSI_25_13                      1142 non-null float64\n",
      "dtypes: float64(46), int64(2), object(2)\n",
      "memory usage: 459.8+ KB\n"
     ]
    }
   ],
   "source": [
    "ABBV.info()"
   ]
  },
  {
   "cell_type": "code",
   "execution_count": 5,
   "metadata": {},
   "outputs": [],
   "source": [
    "ABBV.Date = pd.to_datetime(ABBV.Date)\n",
    "ABBV = ABBV.set_index(ABBV.Date)\n",
    "ABBV = ABBV.drop(\"Unnamed: 0\", axis = 1)"
   ]
  },
  {
   "cell_type": "markdown",
   "metadata": {},
   "source": [
    "#### Plot of Historical Close Prices"
   ]
  },
  {
   "cell_type": "code",
   "execution_count": 6,
   "metadata": {},
   "outputs": [
    {
     "data": {
      "text/plain": [
       "<matplotlib.axes._subplots.AxesSubplot at 0x7f96182ac3c8>"
      ]
     },
     "execution_count": 6,
     "metadata": {},
     "output_type": "execute_result"
    },
    {
     "data": {
      "image/png": "[encoded data removed]",
      "text/plain": [
       "<matplotlib.figure.Figure at 0x7f96182ecf60>"
      ]
     },
     "metadata": {},
     "output_type": "display_data"
    }
   ],
   "source": [
    "ABBV.Close.plot()"
   ]
  },
  {
   "cell_type": "markdown",
   "metadata": {},
   "source": [
    "#### Data Cleaning"
   ]
  },
  {
   "cell_type": "code",
   "execution_count": 7,
   "metadata": {},
   "outputs": [],
   "source": [
    "ABBV.iloc[:, 8:] = ABBV.iloc[:, 8:].shift()\n",
    "ABBV = ABBV.dropna()\n",
    "ABBV = ABBV.drop(\"Acc/Dist_ROC_1\" , axis = 1)"
   ]
  },
  {
   "cell_type": "code",
   "execution_count": 8,
   "metadata": {},
   "outputs": [],
   "source": [
    "y = ABBV[\"Close\"]\n",
    "X = ABBV.iloc[:, 6:]"
   ]
  },
  {
   "cell_type": "code",
   "execution_count": 9,
   "metadata": {},
   "outputs": [],
   "source": [
    "X = X.drop(\"Name\", axis=1)"
   ]
  },
  {
   "cell_type": "code",
   "execution_count": 10,
   "metadata": {},
   "outputs": [
    {
     "data": {
      "text/plain": [
       "0"
      ]
     },
     "execution_count": 10,
     "metadata": {},
     "output_type": "execute_result"
    }
   ],
   "source": [
    "y.isnull().sum()"
   ]
  },
  {
   "cell_type": "code",
   "execution_count": 11,
   "metadata": {},
   "outputs": [
    {
     "data": {
      "text/plain": [
       "ADX_14_50                      0\n",
       "ATR_14                         0\n",
       "BollingerB_5                   0\n",
       "Bollinger%b_5                  0\n",
       "BollingerB_20                  0\n",
       "Bollinger%b_20                 0\n",
       "Copp_10                        0\n",
       "Chaikin                        0\n",
       "EMA_5                          0\n",
       "EMA_20                         0\n",
       "Force_2                        0\n",
       "KST_10_10_10_15_10_15_20_30    0\n",
       "MA_5                           0\n",
       "MA_20                          0\n",
       "MACD_12_26                     0\n",
       "MACDsign_12_26                 0\n",
       "MACDdiff_12_26                 0\n",
       "MFI_14                         0\n",
       "Momentum_1                     0\n",
       "Mass Index                     0\n",
       "OBV_5                          0\n",
       "OBV_20                         0\n",
       "PP                             0\n",
       "R1                             0\n",
       "R2                             0\n",
       "R3                             0\n",
       "S1                             0\n",
       "S2                             0\n",
       "S3                             0\n",
       "ROC_5                          0\n",
       "ROC_20                         0\n",
       "RSI_6                          0\n",
       "RSI_12                         0\n",
       "STD_5                          0\n",
       "STD_20                         0\n",
       "SO%d_5                         0\n",
       "SO%d_20                        0\n",
       "SO%k                           0\n",
       "Trix_5                         0\n",
       "Trix_20                        0\n",
       "TSI_25_13                      0\n",
       "dtype: int64"
      ]
     },
     "execution_count": 11,
     "metadata": {},
     "output_type": "execute_result"
    }
   ],
   "source": [
    "X.isnull().sum()"
   ]
  },
  {
   "cell_type": "markdown",
   "metadata": {},
   "source": [
    "## PCA Analysis"
   ]
  },
  {
   "cell_type": "code",
   "execution_count": 12,
   "metadata": {},
   "outputs": [
    {
     "data": {
      "image/png": "[encoded data removed]",
      "text/plain": [
       "<matplotlib.figure.Figure at 0x7f96181a9b00>"
      ]
     },
     "metadata": {},
     "output_type": "display_data"
    }
   ],
   "source": [
    "X_sc = StandardScaler().fit_transform(X)\n",
    "\n",
    "pca = PCA()\n",
    "pca.fit(X_sc)\n",
    "plt.plot(pca.explained_variance_ratio_.cumsum())\n",
    "plt.show()"
   ]
  },
  {
   "cell_type": "code",
   "execution_count": 13,
   "metadata": {},
   "outputs": [
    {
     "data": {
      "text/plain": [
       "8"
      ]
     },
     "execution_count": 13,
     "metadata": {},
     "output_type": "execute_result"
    }
   ],
   "source": [
    "sum(pca.explained_variance_ratio_.cumsum() <= .9)"
   ]
  },
  {
   "cell_type": "markdown",
   "metadata": {},
   "source": [
    "<b> Finding: The first 8 components cover 90% of the explained variance. </b>"
   ]
  },
  {
   "cell_type": "markdown",
   "metadata": {},
   "source": [
    "## Baseline Analysis"
   ]
  },
  {
   "cell_type": "markdown",
   "metadata": {},
   "source": [
    "Perform train_test_split on ABBV data.  Since this data is a time series, a custom function has been written to train_test_split based on dates.  For the grid searches below, PCA will use 8 components."
   ]
  },
  {
   "cell_type": "code",
   "execution_count": 14,
   "metadata": {},
   "outputs": [],
   "source": [
    "X_train, X_test, y_train, y_test = tts_stock(X, y, test_size=.3)"
   ]
  },
  {
   "cell_type": "code",
   "execution_count": 15,
   "metadata": {},
   "outputs": [
    {
     "data": {
      "text/plain": [
       "((1100, 41), (1100,))"
      ]
     },
     "execution_count": 15,
     "metadata": {},
     "output_type": "execute_result"
    }
   ],
   "source": [
    "X.shape, y.shape"
   ]
  },
  {
   "cell_type": "code",
   "execution_count": 16,
   "metadata": {},
   "outputs": [
    {
     "data": {
      "text/plain": [
       "((770, 41), (330, 41), (770,), (330,))"
      ]
     },
     "execution_count": 16,
     "metadata": {},
     "output_type": "execute_result"
    }
   ],
   "source": [
    "X_train.shape, X_test.shape, y_train.shape, y_test.shape"
   ]
  },
  {
   "cell_type": "markdown",
   "metadata": {},
   "source": [
    "#### Naive GridSearch on Lasso"
   ]
  },
  {
   "cell_type": "code",
   "execution_count": 17,
   "metadata": {},
   "outputs": [
    {
     "name": "stdout",
     "output_type": "stream",
     "text": [
      "Fitting 1 folds for each of 5 candidates, totalling 5 fits\n",
      "Lasso(alpha=1.0, copy_X=True, fit_intercept=True, max_iter=1000,\n",
      "   normalize=False, positive=False, precompute=False, random_state=None,\n",
      "   selection='cyclic', tol=0.0001, warm_start=False)\n",
      "train score: -0.711070616094\n",
      "test score: -0.626147144107\n",
      "\n"
     ]
    },
    {
     "name": "stderr",
     "output_type": "stream",
     "text": [
      "[Parallel(n_jobs=-1)]: Done   5 out of   5 | elapsed:    0.1s finished\n"
     ]
    },
    {
     "data": {
      "text/plain": [
       "{'model__alpha': 0.01, 'pca__n_components': 8}"
      ]
     },
     "execution_count": 17,
     "metadata": {},
     "output_type": "execute_result"
    }
   ],
   "source": [
    "lasso_pipe_params = {\"pca__n_components\": [8],\n",
    "                     \"model__alpha\": np.logspace(-2, 3, 5)}\n",
    "\n",
    "test_model(Lasso(), X_train, y_train, X_test, y_test, naive_flag=True, gs_params=lasso_pipe_params)"
   ]
  },
  {
   "cell_type": "markdown",
   "metadata": {},
   "source": [
    "#### Naive GridSearch on Ridge"
   ]
  },
  {
   "cell_type": "code",
   "execution_count": 18,
   "metadata": {},
   "outputs": [
    {
     "name": "stdout",
     "output_type": "stream",
     "text": [
      "Fitting 1 folds for each of 5 candidates, totalling 5 fits\n"
     ]
    },
    {
     "name": "stderr",
     "output_type": "stream",
     "text": [
      "[Parallel(n_jobs=-1)]: Done   5 out of   5 | elapsed:    0.1s finished\n"
     ]
    },
    {
     "name": "stdout",
     "output_type": "stream",
     "text": [
      "Ridge(alpha=1.0, copy_X=True, fit_intercept=True, max_iter=None,\n",
      "   normalize=False, random_state=None, solver='auto', tol=0.001)\n",
      "train score: -0.710939888083\n",
      "test score: -0.620872991774\n",
      "\n"
     ]
    },
    {
     "data": {
      "text/plain": [
       "{'model__alpha': 3.1622776601683795, 'pca__n_components': 8}"
      ]
     },
     "execution_count": 18,
     "metadata": {},
     "output_type": "execute_result"
    }
   ],
   "source": [
    "ridge_pipe_params = {\"pca__n_components\": [8],\n",
    "                     \"model__alpha\": np.logspace(-2, 3, 5)}\n",
    "\n",
    "test_model(Ridge(), X_train, y_train, X_test, y_test, naive_flag=True, gs_params=ridge_pipe_params)"
   ]
  },
  {
   "cell_type": "markdown",
   "metadata": {},
   "source": [
    "#### Naive GridSearch on RandomForestRegressor"
   ]
  },
  {
   "cell_type": "code",
   "execution_count": 19,
   "metadata": {},
   "outputs": [
    {
     "name": "stdout",
     "output_type": "stream",
     "text": [
      "Fitting 1 folds for each of 3 candidates, totalling 3 fits\n"
     ]
    },
    {
     "name": "stderr",
     "output_type": "stream",
     "text": [
      "[Parallel(n_jobs=-1)]: Done   3 out of   3 | elapsed:    0.6s finished\n"
     ]
    },
    {
     "name": "stdout",
     "output_type": "stream",
     "text": [
      "RandomForestRegressor(bootstrap=True, criterion='mse', max_depth=None,\n",
      "           max_features='auto', max_leaf_nodes=None,\n",
      "           min_impurity_split=1e-07, min_samples_leaf=1,\n",
      "           min_samples_split=2, min_weight_fraction_leaf=0.0,\n",
      "           n_estimators=10, n_jobs=1, oob_score=False, random_state=None,\n",
      "           verbose=0, warm_start=False)\n",
      "train score: -0.319355714286\n",
      "test score: -1.74297151515\n",
      "\n"
     ]
    },
    {
     "data": {
      "text/plain": [
       "{'model__n_estimators': 100, 'pca__n_components': 8}"
      ]
     },
     "execution_count": 19,
     "metadata": {},
     "output_type": "execute_result"
    }
   ],
   "source": [
    "rf_pipe_params = {\"pca__n_components\": [8],\n",
    "                  \"model__n_estimators\": [10, 50, 100]}\n",
    "\n",
    "test_model(RandomForestRegressor(), X_train, y_train, X_test, y_test, naive_flag=True, gs_params=rf_pipe_params)"
   ]
  },
  {
   "cell_type": "markdown",
   "metadata": {},
   "source": [
    "## Findings and Next Steps"
   ]
  },
  {
   "cell_type": "markdown",
   "metadata": {},
   "source": [
    "Lasso and Ridge produce train and test scores in the high 90% range, while RandomForestRegressor produces significantly different train and test scores.  These findings would imply overfitting.\n",
    "\n",
    "In addition, this naive analysis was performed with the closing price as the target, whereas future analysis will use trading signal as the target.\n",
    "\n",
    "The most meaningful finding was that the first eight principal components of the selected stock cover 90% of the explained variance, so a similar number of principal components will be utilized when creating the final model."
   ]
  },
  {
   "cell_type": "code",
   "execution_count": null,
   "metadata": {},
   "outputs": [],
   "source": []
  }
 ],
 "metadata": {
  "kernelspec": {
   "display_name": "Python 3",
   "language": "python",
   "name": "python3"
  },
  "language_info": {
   "codemirror_mode": {
    "name": "ipython",
    "version": 3
   },
   "file_extension": ".py",
   "mimetype": "text/x-python",
   "name": "python",
   "nbconvert_exporter": "python",
   "pygments_lexer": "ipython3",
   "version": "3.6.3"
  }
 },
 "nbformat": 4,
 "nbformat_minor": 2
}
