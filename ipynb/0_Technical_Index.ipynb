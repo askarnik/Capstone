{
 "cells": [
  {
   "cell_type": "code",
   "execution_count": 1,
   "metadata": {},
   "outputs": [
    {
     "name": "stdout",
     "output_type": "stream",
     "text": [
      "/home/jovyan/work/dsi-plus-2/Capstone\n"
     ]
    }
   ],
   "source": [
    "cd .. "
   ]
  },
  {
   "cell_type": "code",
   "execution_count": 2,
   "metadata": {},
   "outputs": [],
   "source": [
    "%run __init__.py"
   ]
  },
  {
   "cell_type": "code",
   "execution_count": 3,
   "metadata": {},
   "outputs": [],
   "source": [
    "#hacky way to get a dictionary of all the imported technical functions\n",
    "tech_funcs = dict(filter(lambda x: x[0][0] in string.ascii_uppercase, inspect.getmembers(ta)))"
   ]
  },
  {
   "cell_type": "code",
   "execution_count": 4,
   "metadata": {},
   "outputs": [],
   "source": [
    "#Each tuple contains the *args for a single run\n",
    "#Best guesses from the internet, \"A critical extraction ..\" paper, and the ta.py code\n",
    "\n",
    "grid = {\"MA\": [(5,), (20,)],\n",
    "        \"STDDEV\": [(5,), (20,)],\n",
    "        \"RSI\": [(6,), (12,)],\n",
    "        \"MACD\": [(12, 26)],\n",
    "        \"BBANDS\": [(5,), (20,)],\n",
    "        \"MFI\": [(14,)],\n",
    "        \"Chaikin\": [()],\n",
    "        \"EMA\": [(5,), (20,)],\n",
    "        \"KST\": [(10, 10, 10, 15, 10, 15, 20, 30)],\n",
    "        \"TSI\": [(25, 13)],\n",
    "        \"TRIX\": [(5,), (20,)],\n",
    "        \"STOK\": [()],\n",
    "        \"STO\": [(5,), (20,)],\n",
    "        \"ROC\": [(5,), (20,)],\n",
    "        \"PPSR\": [()],\n",
    "        \"OBV\": [(5,), (20,)],\n",
    "        \"MassI\": [()],\n",
    "        \"MOM\": [(1,)],\n",
    "        \"COPP\": [(10,)],\n",
    "        \"ADX\": [(14, 50)],\n",
    "        \"ATR\": [(14,)],\n",
    "        \"FORCE\": [(2,)],\n",
    "        \"ACCDIST\": [(1,)]}\n"
   ]
  },
  {
   "cell_type": "code",
   "execution_count": 5,
   "metadata": {},
   "outputs": [],
   "source": [
    "#serially apply every technical function in dictionary to an initial dataframe\n",
    "def extract_technicals(df, tech_funcs, grid):\n",
    "    \n",
    "    output = df\n",
    "    for name, func in tech_funcs.items():\n",
    "        arg_list = grid[name]\n",
    "        for arg_tuple in arg_list:\n",
    "            output = func(output, *arg_tuple)\n",
    "    \n",
    "    return output"
   ]
  },
  {
   "cell_type": "code",
   "execution_count": 6,
   "metadata": {},
   "outputs": [],
   "source": [
    "#serialize technical functions extraction objects\n",
    "tech_func_tools = [tech_funcs, grid]\n",
    "\n",
    "with open(\"lib/tech_func_tools.pkl\", \"wb\") as dump_file:\n",
    "    pickle.dump(tech_func_tools, dump_file)"
   ]
  },
  {
   "cell_type": "markdown",
   "metadata": {},
   "source": [
    "### Extract technicals from every individual stock CSV"
   ]
  },
  {
   "cell_type": "code",
   "execution_count": 8,
   "metadata": {},
   "outputs": [],
   "source": [
    "#grab list of csv names in the directory\n",
    "individuals = os.listdir(path = \"data/sandp500/individual_stocks_5yr/\")\n",
    "\n",
    "for csv in individuals:\n",
    "    csv_path = \"data/sandp500/individual_stocks_5yr/\" + csv\n",
    "    df = pd.read_csv(csv_path)\n",
    "    try:\n",
    "        df_technicals = extract_technicals(df, tech_funcs, grid)\n",
    "        df_technicals.to_csv(\"data/sandp500/individual_stocks_5yr_TECHNICALS/\" + csv)\n",
    "    except IndexError:\n",
    "        print(f\"Technical extraction failed on {csv}\")\n"
   ]
  },
  {
   "cell_type": "code",
   "execution_count": null,
   "metadata": {},
   "outputs": [],
   "source": []
  }
 ],
 "metadata": {
  "kernelspec": {
   "display_name": "Python 3",
   "language": "python",
   "name": "python3"
  },
  "language_info": {
   "codemirror_mode": {
    "name": "ipython",
    "version": 3
   },
   "file_extension": ".py",
   "mimetype": "text/x-python",
   "name": "python",
   "nbconvert_exporter": "python",
   "pygments_lexer": "ipython3",
   "version": "3.6.3"
  }
 },
 "nbformat": 4,
 "nbformat_minor": 2
}
